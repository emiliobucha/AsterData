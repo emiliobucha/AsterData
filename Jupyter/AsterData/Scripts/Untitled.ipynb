{
 "cells": [
  {
   "cell_type": "code",
   "execution_count": 7,
   "metadata": {
    "collapsed": false
   },
   "outputs": [],
   "source": [
    "import numpy as np\n",
    "import matplotlib.pyplot as plt\n",
    "import mpl_toolkits.mplot3d.axis3d \n",
    "%matplotlib notebook"
   ]
  },
  {
   "cell_type": "code",
   "execution_count": 8,
   "metadata": {
    "collapsed": true
   },
   "outputs": [],
   "source": [
    "#Parametros y definiciones\n",
    "A=2 #Cantidad de neeuronas capa de entrada\n",
    "B=2 #cantidad de neuronas de la capa oculta\n",
    "C=1 #Cantidad de neuras en la capa de salida\n",
    "lr=.35 #tasa de aprendizaje\n",
    "def logistic(a):\n",
    "    return 1.0/(1+np.exp(1)**(-1.0*a))\n",
    "def lin(a):\n",
    "    return a\n",
    "def logistic_d(a): #derivada\n",
    "    return a*(1-a) \n",
    "def lin_d(a): #derivada\n",
    "    return 1.0"
   ]
  },
  {
   "cell_type": "code",
   "execution_count": null,
   "metadata": {
    "collapsed": true
   },
   "outputs": [],
   "source": [
    "#datos\n",
    "w1= np.random.uniform(-1,1,size={A=1,B})\n",
    "w2 = np"
   ]
  }
 ],
 "metadata": {
  "anaconda-cloud": {},
  "kernelspec": {
   "display_name": "Python [Root]",
   "language": "python",
   "name": "Python [Root]"
  },
  "language_info": {
   "codemirror_mode": {
    "name": "ipython",
    "version": 2
   },
   "file_extension": ".py",
   "mimetype": "text/x-python",
   "name": "python",
   "nbconvert_exporter": "python",
   "pygments_lexer": "ipython2",
   "version": "2.7.12"
  }
 },
 "nbformat": 4,
 "nbformat_minor": 0
}
